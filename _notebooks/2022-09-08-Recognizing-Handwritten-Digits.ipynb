{
 "cells": [
  {
   "cell_type": "markdown",
   "id": "368389dd",
   "metadata": {},
   "source": [
    "# Recognizing Handwritten Digits\n",
    "> Data analysis is not limited to numbers and strings, because images and sounds can also be analyzed and classified.\n",
    "Recognizing handwritten text is a problem that can be traced back to the first automatic machines that needed to recognize individual characters in handwritten documents. OCR software must read handwritten text, or pages of printed books, for general electronic documents in which each character is well defined.\n",
    "\n",
    "- toc:true- branch: master\n",
    "- badges: true\n",
    "- comments: true\n",
    "- author: GaganKumar\n",
    "- categories: [DataAnalysis]"
   ]
  },
  {
   "cell_type": "markdown",
   "id": "9d0a9771",
   "metadata": {},
   "source": [
    "## Introduction ##"
   ]
  },
  {
   "cell_type": "markdown",
   "id": "8133ef55",
   "metadata": {},
   "source": [
    "**The scikit-learn library provides a good example to better understand this technique, the issues involved, and the \n",
    "possibility of making prediction.**"
   ]
  },
  {
   "cell_type": "code",
   "execution_count": 1,
   "id": "419e06b4",
   "metadata": {},
   "outputs": [],
   "source": [
    "from sklearn import datasets\n",
    "from sklearn.model_selection import train_test_split\n",
    "from sklearn.ensemble import RandomForestClassifier\n",
    "from sklearn.metrics import accuracy_score\n",
    "import matplotlib.pyplot as plt\n",
    "%matplotlib inline"
   ]
  },
  {
   "cell_type": "markdown",
   "id": "fcc843eb",
   "metadata": {},
   "source": [
    "**The scikit-learn library provides numerous datasets that are useful for testing many \n",
    "problems of data analysis and prediction of the results. Also in this case there is a dataset \n",
    "of images called Digits.\n",
    "Loading the digit dataset**"
   ]
  },
  {
   "cell_type": "code",
   "execution_count": 2,
   "id": "353f235b",
   "metadata": {},
   "outputs": [],
   "source": [
    "digits = datasets.load_digits()"
   ]
  },
  {
   "cell_type": "markdown",
   "id": "01db42a4",
   "metadata": {},
   "source": [
    " **read lots of information about the datasets by calling the DESCR attribute.**"
   ]
  },
  {
   "cell_type": "code",
   "execution_count": 3,
   "id": "c243fa3d",
   "metadata": {
    "scrolled": true
   },
   "outputs": [
    {
     "name": "stdout",
     "output_type": "stream",
     "text": [
      ".. _digits_dataset:\n",
      "\n",
      "Optical recognition of handwritten digits dataset\n",
      "--------------------------------------------------\n",
      "\n",
      "**Data Set Characteristics:**\n",
      "\n",
      "    :Number of Instances: 1797\n",
      "    :Number of Attributes: 64\n",
      "    :Attribute Information: 8x8 image of integer pixels in the range 0..16.\n",
      "    :Missing Attribute Values: None\n",
      "    :Creator: E. Alpaydin (alpaydin '@' boun.edu.tr)\n",
      "    :Date: July; 1998\n",
      "\n",
      "This is a copy of the test set of the UCI ML hand-written digits datasets\n",
      "https://archive.ics.uci.edu/ml/datasets/Optical+Recognition+of+Handwritten+Digits\n",
      "\n",
      "The data set contains images of hand-written digits: 10 classes where\n",
      "each class refers to a digit.\n",
      "\n",
      "Preprocessing programs made available by NIST were used to extract\n",
      "normalized bitmaps of handwritten digits from a preprinted form. From a\n",
      "total of 43 people, 30 contributed to the training set and different 13\n",
      "to the test set. 32x32 bitmaps are divided into nonoverlapping blocks of\n",
      "4x4 and the number of on pixels are counted in each block. This generates\n",
      "an input matrix of 8x8 where each element is an integer in the range\n",
      "0..16. This reduces dimensionality and gives invariance to small\n",
      "distortions.\n",
      "\n",
      "For info on NIST preprocessing routines, see M. D. Garris, J. L. Blue, G.\n",
      "T. Candela, D. L. Dimmick, J. Geist, P. J. Grother, S. A. Janet, and C.\n",
      "L. Wilson, NIST Form-Based Handprint Recognition System, NISTIR 5469,\n",
      "1994.\n",
      "\n",
      ".. topic:: References\n",
      "\n",
      "  - C. Kaynak (1995) Methods of Combining Multiple Classifiers and Their\n",
      "    Applications to Handwritten Digit Recognition, MSc Thesis, Institute of\n",
      "    Graduate Studies in Science and Engineering, Bogazici University.\n",
      "  - E. Alpaydin, C. Kaynak (1998) Cascading Classifiers, Kybernetika.\n",
      "  - Ken Tang and Ponnuthurai N. Suganthan and Xi Yao and A. Kai Qin.\n",
      "    Linear dimensionalityreduction using relevance weighted LDA. School of\n",
      "    Electrical and Electronic Engineering Nanyang Technological University.\n",
      "    2005.\n",
      "  - Claudio Gentile. A New Approximate Maximal Margin Classification\n",
      "    Algorithm. NIPS. 2000.\n",
      "\n"
     ]
    }
   ],
   "source": [
    "print(digits.DESCR)"
   ]
  },
  {
   "cell_type": "markdown",
   "id": "0ad36633",
   "metadata": {},
   "source": [
    "**The images of the handwritten digits are contained in a digits.images array. Each \n",
    "element of this array is an image that is represented by an 8x8 matrix of numerical values \n",
    "that correspond to a grayscale from white, with a value of 0, to black, with the value 15.**\n",
    "\n",
    "**Example for digits.images[1]**"
   ]
  },
  {
   "cell_type": "code",
   "execution_count": 4,
   "id": "0512bad4",
   "metadata": {},
   "outputs": [
    {
     "data": {
      "text/plain": [
       "(array([[ 0.,  0.,  0., 12., 13.,  5.,  0.,  0.],\n",
       "        [ 0.,  0.,  0., 11., 16.,  9.,  0.,  0.],\n",
       "        [ 0.,  0.,  3., 15., 16.,  6.,  0.,  0.],\n",
       "        [ 0.,  7., 15., 16., 16.,  2.,  0.,  0.],\n",
       "        [ 0.,  0.,  1., 16., 16.,  3.,  0.,  0.],\n",
       "        [ 0.,  0.,  1., 16., 16.,  6.,  0.,  0.],\n",
       "        [ 0.,  0.,  1., 16., 16.,  6.,  0.,  0.],\n",
       "        [ 0.,  0.,  0., 11., 16., 10.,  0.,  0.]]),\n",
       " (8, 8))"
      ]
     },
     "execution_count": 4,
     "metadata": {},
     "output_type": "execute_result"
    }
   ],
   "source": [
    "digits.images[1], digits.images[1].shape"
   ]
  },
  {
   "cell_type": "markdown",
   "id": "919ff9f6",
   "metadata": {},
   "source": [
    "**You can visually check the contents of this result using the matplotlib library,**\n",
    "**By launching this command, you will obtain the grayscale image**"
   ]
  },
  {
   "cell_type": "code",
   "execution_count": 5,
   "id": "2193c1b8",
   "metadata": {},
   "outputs": [
    {
     "data": {
      "text/plain": [
       "<matplotlib.image.AxesImage at 0x7f4fc8125990>"
      ]
     },
     "execution_count": 5,
     "metadata": {},
     "output_type": "execute_result"
    },
    {
     "data": {
      "image/png": "[encoded data removed]",
      "text/plain": [
       "<Figure size 640x480 with 1 Axes>"
      ]
     },
     "metadata": {},
     "output_type": "display_data"
    }
   ],
   "source": [
    "plt.imshow(digits.images[1], cmap=plt.cm.gray_r, interpolation='nearest')"
   ]
  },
  {
   "cell_type": "markdown",
   "id": "ebe1352d",
   "metadata": {},
   "source": [
    "**Numerical values represented by images, i.e., the targets, are contained in the \n",
    "digit.targets array.**\n"
   ]
  },
  {
   "cell_type": "code",
   "execution_count": 6,
   "id": "d475ae58",
   "metadata": {},
   "outputs": [
    {
     "data": {
      "text/plain": [
       "array([0, 1, 2, ..., 8, 9, 8])"
      ]
     },
     "execution_count": 6,
     "metadata": {},
     "output_type": "execute_result"
    }
   ],
   "source": [
    "digits.target"
   ]
  },
  {
   "cell_type": "markdown",
   "id": "28fc6090",
   "metadata": {},
   "source": [
    "**It was reported that the dataset is a training set consisting of 1,797 images. You can \n",
    "determine if that is true**"
   ]
  },
  {
   "cell_type": "code",
   "execution_count": 7,
   "id": "668e787a",
   "metadata": {
    "scrolled": true
   },
   "outputs": [
    {
     "data": {
      "text/plain": [
       "1797"
      ]
     },
     "execution_count": 7,
     "metadata": {},
     "output_type": "execute_result"
    }
   ],
   "source": [
    "digits.target.size"
   ]
  },
  {
   "cell_type": "code",
   "execution_count": 8,
   "id": "fba5e15f",
   "metadata": {},
   "outputs": [
    {
     "data": {
      "text/plain": [
       "((1797, 8, 8), (1797,))"
      ]
     },
     "execution_count": 8,
     "metadata": {},
     "output_type": "execute_result"
    }
   ],
   "source": [
    "digits.images.shape, digits.target.shape"
   ]
  },
  {
   "cell_type": "code",
   "execution_count": 9,
   "id": "12d24025",
   "metadata": {},
   "outputs": [
    {
     "data": {
      "text/plain": [
       "(1797, 8, 8)"
      ]
     },
     "execution_count": 9,
     "metadata": {},
     "output_type": "execute_result"
    }
   ],
   "source": [
    "N, H, W = digits.images.shape\n",
    "N, H, W"
   ]
  },
  {
   "cell_type": "markdown",
   "id": "9719c4c1",
   "metadata": {},
   "source": [
    "**Inputs to the model should be of shape `No. of samples * No. of features`.**\n",
    "\n",
    "**So our digits inputs should be reshaped from `1797 * 8 * 8` to `1797 * 64`.**"
   ]
  },
  {
   "cell_type": "code",
   "execution_count": 10,
   "id": "f4feb0a4",
   "metadata": {},
   "outputs": [
    {
     "data": {
      "text/plain": [
       "(1797, 64)"
      ]
     },
     "execution_count": 10,
     "metadata": {},
     "output_type": "execute_result"
    }
   ],
   "source": [
    "digits.images = digits.images.reshape(N, (H * W))\n",
    "digits.images.shape"
   ]
  },
  {
   "cell_type": "markdown",
   "id": "3b86cfc0",
   "metadata": {},
   "source": [
    "**train_test_split is used to split the data**"
   ]
  },
  {
   "cell_type": "markdown",
   "id": "1c8c71e5",
   "metadata": {},
   "source": [
    "**Step 1-Splitting the data in to 80 percent and 20 percent**"
   ]
  },
  {
   "cell_type": "code",
   "execution_count": 11,
   "id": "a5ef2f4b",
   "metadata": {
    "scrolled": true
   },
   "outputs": [
    {
     "data": {
      "text/plain": [
       "((1437, 64), (360, 64), (1437,), (360,))"
      ]
     },
     "execution_count": 11,
     "metadata": {},
     "output_type": "execute_result"
    }
   ],
   "source": [
    "train_X, val_X, train_y, val_y = train_test_split(digits.images, digits.target, test_size=0.2)\n",
    "train_X.shape, val_X.shape, train_y.shape, val_y.shape"
   ]
  },
  {
   "cell_type": "markdown",
   "id": "013ca7f8",
   "metadata": {},
   "source": [
    "**Firstly we create the RF model and fit model to train data,predict the train data using trained model,predict\n",
    "on valid data using trained model printing the accuracy scores for both train and valid data**"
   ]
  },
  {
   "cell_type": "code",
   "execution_count": 15,
   "id": "2acd262c",
   "metadata": {},
   "outputs": [
    {
     "name": "stdout",
     "output_type": "stream",
     "text": [
      "Train accuracy: 1.0\n",
      "Valid accuracy: 0.9722222222222222\n"
     ]
    }
   ],
   "source": [
    "# create RF model\n",
    "model = RandomForestClassifier(random_state=0)\n",
    "# fit model to train data\n",
    "model.fit(train_X, train_y)\n",
    "# predict on train data using trained model\n",
    "train_pred = model.predict(train_X)\n",
    "# predict on valid data using trained model\n",
    "val_pred = model.predict(val_X)\n",
    "# print accuracy scores for both train and valid data\n",
    "print(f\"Train accuracy: {accuracy_score(train_y, train_pred)}\")\n",
    "print(f\"Valid accuracy: {accuracy_score(val_y, val_pred)}\")"
   ]
  },
  {
   "cell_type": "markdown",
   "id": "e2a9a582",
   "metadata": {},
   "source": [
    "**Step-2 Splitting the data in to 70 percent and 30 percent and predicting the accuracy**"
   ]
  },
  {
   "cell_type": "code",
   "execution_count": 16,
   "id": "68b7da25",
   "metadata": {
    "scrolled": true
   },
   "outputs": [
    {
     "data": {
      "text/plain": [
       "((1257, 64), (540, 64), (1257,), (540,))"
      ]
     },
     "execution_count": 16,
     "metadata": {},
     "output_type": "execute_result"
    }
   ],
   "source": [
    "train_X, val_X, train_y, val_y = train_test_split(digits.images, digits.target, test_size=0.3)\n",
    "train_X.shape, val_X.shape, train_y.shape, val_y.shape"
   ]
  },
  {
   "cell_type": "code",
   "execution_count": 17,
   "id": "9b3f6471",
   "metadata": {},
   "outputs": [
    {
     "name": "stdout",
     "output_type": "stream",
     "text": [
      "Train accuracy: 1.0\n",
      "Valid accuracy: 0.9703703703703703\n"
     ]
    }
   ],
   "source": [
    "# create RF model\n",
    "model = RandomForestClassifier(random_state=0)\n",
    "# fit model to train data\n",
    "model.fit(train_X, train_y)\n",
    "# predict on train data using trained model\n",
    "train_pred = model.predict(train_X)\n",
    "# predict on valid data using trained model\n",
    "val_pred = model.predict(val_X)\n",
    "# print accuracy scores for both train and valid data\n",
    "print(f\"Train accuracy: {accuracy_score(train_y, train_pred)}\")\n",
    "print(f\"Valid accuracy: {accuracy_score(val_y, val_pred)}\")"
   ]
  },
  {
   "cell_type": "markdown",
   "id": "7d915644",
   "metadata": {},
   "source": [
    "**Step-3 Splitting the data in to 60 percent and 40 percent and predicting the accuracy**"
   ]
  },
  {
   "cell_type": "code",
   "execution_count": 18,
   "id": "9de92033",
   "metadata": {
    "scrolled": true
   },
   "outputs": [
    {
     "data": {
      "text/plain": [
       "((1078, 64), (719, 64), (1078,), (719,))"
      ]
     },
     "execution_count": 18,
     "metadata": {},
     "output_type": "execute_result"
    }
   ],
   "source": [
    "train_X, val_X, train_y, val_y = train_test_split(digits.images, digits.target, test_size=0.4)\n",
    "train_X.shape, val_X.shape, train_y.shape, val_y.shape"
   ]
  },
  {
   "cell_type": "code",
   "execution_count": 19,
   "id": "33ea7d33",
   "metadata": {},
   "outputs": [
    {
     "name": "stdout",
     "output_type": "stream",
     "text": [
      "Train accuracy: 1.0\n",
      "Valid accuracy: 0.9763560500695411\n"
     ]
    }
   ],
   "source": [
    "# create RF model\n",
    "model = RandomForestClassifier(random_state=0)\n",
    "# fit model to train data\n",
    "model.fit(train_X, train_y)\n",
    "# predict on train data using trained model\n",
    "train_pred = model.predict(train_X)\n",
    "# predict on valid data using trained model\n",
    "val_pred = model.predict(val_X)\n",
    "# print accuracy scores for both train and valid data\n",
    "print(f\"Train accuracy: {accuracy_score(train_y, train_pred)}\")\n",
    "print(f\"Valid accuracy: {accuracy_score(val_y, val_pred)}\")"
   ]
  },
  {
   "cell_type": "markdown",
   "id": "3da6272f",
   "metadata": {},
   "source": [
    "## Conclusion ##"
   ]
  },
  {
   "cell_type": "markdown",
   "id": "fde2340f",
   "metadata": {},
   "source": [
    "**We can clearly say that in all the 3 steps the accuracy of our model is more than 95 percent,\n",
    "hence the hypothesis is accepted**"
   ]
  },
  {
   "cell_type": "markdown",
   "id": "d25d5375",
   "metadata": {},
   "source": [
    "#### \"I am thankful to mentors at https://internship.suvenconsultants.com for providing awesome problem statements and giving many of us a Coding Internship Exprience. Thank you www.suvenconsultants.com\"\n"
   ]
  }
 ],
 "metadata": {
  "kernelspec": {
   "display_name": "Python 3 (ipykernel)",
   "language": "python",
   "name": "python3"
  },
  "language_info": {
   "codemirror_mode": {
    "name": "ipython",
    "version": 3
   },
   "file_extension": ".py",
   "mimetype": "text/x-python",
   "name": "python",
   "nbconvert_exporter": "python",
   "pygments_lexer": "ipython3",
   "version": "3.10.6"
  }
 },
 "nbformat": 4,
 "nbformat_minor": 5
}
